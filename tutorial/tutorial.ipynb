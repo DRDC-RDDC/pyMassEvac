{
 "cells": [
  {
   "cell_type": "markdown",
   "id": "7cad2c2c-4bc6-4f23-9401-07048a8e40df",
   "metadata": {
    "editable": true,
    "slideshow": {
     "slide_type": ""
    },
    "tags": []
   },
   "source": [
    "# pyMassEvac tutorial - simulating with policy function approximations\n",
    "\n",
    "This tutorial demonstrates how to use the `pyMassEvac` python package to study a multi-domain response to a mass evacuation. It does so by using the environment provided by the package to simulate the result of using policies that are best described as Policy Function Approximations.\n",
    "\n",
    "Throughout this tutorial, reference will be made to an article - Rempel (2024). The citation for this article is as follows:\n",
    "\n",
    "Rempel, M., Modelling a major maritime disaster scenario using the universal modelling framework for sequential decisions, Safety Science, Volume 171, 2024, 106379, ISSN 0925-7535, https://doi.org/10.1016/j.ssci.2023.106379."
   ]
  },
  {
   "cell_type": "code",
   "execution_count": 1,
   "id": "656f5d1f-e9f7-4e26-b11f-f61ef580795a",
   "metadata": {},
   "outputs": [],
   "source": [
    "# import packages\n",
    "import gymnasium as gym\n",
    "import numpy as np\n",
    "import pandas as pd\n",
    "import copy\n",
    "import math\n",
    "import random\n",
    "from tqdm import tqdm\n",
    "from matplotlib import pyplot as plt\n",
    "import seaborn as sns\n",
    "from scipy.stats import bootstrap\n",
    "\n",
    "from IPython.display import clear_output\n",
    "import time"
   ]
  },
  {
   "cell_type": "markdown",
   "id": "93ad6968-8398-4bbf-9e0a-2c254de5dc92",
   "metadata": {},
   "source": [
    "Next, import two modules from the pyMassEvac package. The first module, mass_evacuation, contains the mass evacuation gymnasium environment. The second module, mass_evacuation_policy, contians a set of benchmark policy function approximations as described in Rempel (2024)."
   ]
  },
  {
   "cell_type": "code",
   "execution_count": 2,
   "id": "a3f78c9f-fbcd-4133-9b0f-dea3c445f0be",
   "metadata": {},
   "outputs": [],
   "source": [
    "from pyMassEvac.mass_evacuation import MassEvacuation\n",
    "from pyMassEvac.mass_evacuation_policy import MassEvacuationPolicy"
   ]
  },
  {
   "cell_type": "markdown",
   "id": "6cdb7991-e073-426f-932e-82765a0deddb",
   "metadata": {},
   "source": [
    "## Setting up the initial state, environment, and decision policies\n",
    "\n",
    "First, we define the seed used in the random number generator. This seed, which is the same as used in Rempel (2024) (although not explicitly reported), is used to initiate a random number generator. This single generator is used to: \n",
    "\n",
    "- generate the initial transition times of individuals between medical conditions;\n",
    "- generate new transition times when an individual is loaded on or off the ship; and\n",
    "- generate random numbers to determine if an individual has transitioned between medical conditions each time the transition function is executed.\n",
    "\n",
    "Note: The pyMassEvac package uses a separate random number generator for the benchmark policies, but a seed is not provided in this instance as the benchmark policies used do not require the generator.\n",
    "\n",
    "Second, we define the initial state $S_0$. This is the same initial state used in Rempel (2024), a combination of the parameter listed in Table 5 and the initial values of the state variable listed in equation (1). However, note the addition of the initial helicopter arrival time and initial ship arrival time. In Rempel (2024) these were considered as separate parameters that were input to the simulation; they are now integrated into the initial state in order to provide a clearner interface."
   ]
  },
  {
   "cell_type": "code",
   "execution_count": 3,
   "id": "2b844a83-623f-4011-9a6c-f75c7a732979",
   "metadata": {},
   "outputs": [],
   "source": [
    "# set the environment's seed and initial state that was used in Rempel (2024)\n",
    "rempel_2024_seed = 20180529\n",
    "\n",
    "# Set the initial state\n",
    "rempel_2024_initial_state = {\n",
    "            'm_e' : {'white' : 120, 'green' : 48, 'yellow' : 8, 'red' : 1.5},\n",
    "            'm_s' : {'green' : 48, 'yellow' : 72, 'red' : 120},\n",
    "            'c_h' : 10,\n",
    "            'c_s' : 50,\n",
    "            'delta_h' : {'white' : 1, 'green' : 1, 'yellow' : 3, 'red' : 3},\n",
    "            'delta_s' : {'white' : 1, 'green' : 1, 'yellow' : 3, 'red' : 3},\n",
    "            'eta_h' : 3,\n",
    "            'eta_sl' : 24,\n",
    "            'eta_su' : 1,\n",
    "            'tau_k' : 0,\n",
    "            'e_k' : 0,\n",
    "            'rho_e_k' : {'white' : 0, 'green' : 475, 'yellow' : 20, 'red' : 5},\n",
    "            'rho_s_k' : {'white' : 0, 'green' : 0, 'yellow' : 0, 'red' : 0},\n",
    "            'initial_helo_arrival' : [48],\n",
    "            'initial_ship_arrival' : [0]\n",
    "        }"
   ]
  },
  {
   "cell_type": "markdown",
   "id": "d412ef33-7985-4696-80aa-9f018fa250bd",
   "metadata": {},
   "source": [
    "Next, we create the gymnasium environment and a policy object. The gymnasium environment requries three parameters: \n",
    "\n",
    "- the initial state $S_0$;\n",
    "- the seed for the random number generator; and\n",
    "- whether or not the np.random.default_rng generator is to be used (default_rng = True) or not (default_rng = False).\n",
    "\n",
    "In the case of False, the random number generator is created using np.random.RandomState (which was used in Rempel (2024)). Given that np.random.default_rng is a replacement for RandomState, it is advised to set default_rng = True. In the case below, we set it to False to generate results that are in good agreement with Rempel (2024). "
   ]
  },
  {
   "cell_type": "code",
   "execution_count": 4,
   "id": "84813a8b-fd0b-422e-8f44-9dd30adcc51f",
   "metadata": {},
   "outputs": [],
   "source": [
    "# create the environment and policy objects\n",
    "env = MassEvacuation(initial_state = rempel_2024_initial_state, \\\n",
    "                     seed = rempel_2024_seed,\n",
    "                     default_rng = False)\n",
    "\n",
    "policy = MassEvacuationPolicy()"
   ]
  },
  {
   "cell_type": "markdown",
   "id": "548f455a-5159-422f-8844-03dd93998476",
   "metadata": {},
   "source": [
    "## Setting up the simulation"
   ]
  },
  {
   "cell_type": "markdown",
   "id": "74ee0db8-d4f5-468f-bef0-1dd10a149552",
   "metadata": {},
   "source": [
    "With the environment and policy objects created, we are now in a position to define a function to execute the simulation. The aim of this simulation is to generate results similar to those presented in Figure 3 in Rempel (2024); that is, given one helicopter that is responding to the incident, how does the number of lives saved depend on the arrival time of the ship. Given this aim, this function `simulate_scenario` takes five parameters:\n",
    "\n",
    "- `env`: the environment object that represents the transition function and generates the exoengous information;\n",
    "- `policy`: the policy object that contains the policies that will be used to load a helicopter, load the ship, and unload the ship;\n",
    "- `ship_arrival_time': a numpy array that lists the hours that the ship arrives after the individuals arrive at the evacuation site;\n",
    "- `single_scenario`: a boolean that determines if when the environment is reset whether it defaults to the original state as defined by $S_0$ (`single_scenario = True`), or whether new initial transition times between medical conditions for the individauls are randomly generated (`single_scenario = False`). The default value is set to True; and\n",
    "- `num_trials`: the number of trials that are executed for each ship arrival time. The defualt value is set to 30.\n",
    "\n",
    "The function returns a Pandas data frame that contains three columns: the ship arrival time, the trial number, and the number of lives saved. "
   ]
  },
  {
   "cell_type": "code",
   "execution_count": 5,
   "id": "bd1c1803-a048-495b-af0e-fd5b4dec3288",
   "metadata": {},
   "outputs": [],
   "source": [
    "def simulate_scenario(env, policy, ship_arrival_time, single_scenario = True, num_trials = 30):\n",
    "\n",
    "    # define the default action\n",
    "    action = {'x_hl_k' : {'white' : 0, 'green' : 0, 'yellow' : 0, 'red' : 0},\n",
    "              'x_sl_k' : {'white' : 0, 'green' : 0, 'yellow' : 0, 'red' : 0},\n",
    "              'x_su_k' : {'white' : 0, 'green' : 0, 'yellow' : 0, 'red' : 0}\n",
    "             }\n",
    "    \n",
    "    # Create a pandas data frame to store the results\n",
    "    results = pd.DataFrame(columns = ['Ship arrival time', 'Trial', 'Objective'])\n",
    "    \n",
    "    for idx, ship_arrival in enumerate(ship_arrival_time):\n",
    "    \n",
    "        env.initial_state['initial_ship_arrival'] = [ship_arrival] \n",
    "        \n",
    "        for t in tqdm(range(num_trials)):\n",
    "\n",
    "            options = {}\n",
    "            options['single_scenario'] = single_scenario\n",
    "            env.reset(options = options)       \n",
    "            \n",
    "            objective = 0\n",
    "            done = False\n",
    "        \n",
    "            while not done:\n",
    "        \n",
    "                # The action space in this is defined by three types of actions that can be taken that depend on the event that is occuring.\n",
    "                # The actions are:\n",
    "                # - load the helicopter with {white, green, yellow, red}\n",
    "                # - load the ship with {whtie, green, yellow, red}\n",
    "                # - unload the ship with {white, green, yellow, red}\n",
    "        \n",
    "                action = {'x_hl_k' : {'white' : 0, 'green' : 0, 'yellow' : 0, 'red' : 0},\n",
    "                          'x_sl_k' : {'white' : 0, 'green' : 0, 'yellow' : 0, 'red' : 0},\n",
    "                          'x_su_k' : {'white' : 0, 'green' : 0, 'yellow' : 0, 'red' : 0}\n",
    "                          }\n",
    "        \n",
    "                if (env.state['e_k']) == 1:\n",
    "        \n",
    "                    # load the helicopter\n",
    "                    params = {}\n",
    "                    params['total_capacity'] = env.initial_state['c_h']\n",
    "                    params['individual_capacity'] = env.initial_state['delta_h']\n",
    "                    action['x_hl_k'] = policy.green_first_loading_policy(state = env.state, \\\n",
    "                                                                         params = params)\n",
    "                elif (env.state['e_k'] == 2):\n",
    "        \n",
    "                    # load the ship\n",
    "                    params = {}\n",
    "                    params['total_capacity'] = env.initial_state['c_s']\n",
    "                    params['individual_capacity'] = env.initial_state['delta_s']\n",
    "                    action['x_sl_k'] = policy.green_first_loading_policy(state = env.state, \\\n",
    "                                                                         params = params)\n",
    "                elif (env.state['e_k'] == 3):\n",
    "        \n",
    "                    # unload the ship\n",
    "                    action['x_su_k'] = policy.white_unloading_policy(state = env.state) \n",
    "\n",
    "                # Convert action from a dict to ndarray\n",
    "                action = env.action_dict_to_ndarray(action)\n",
    "                \n",
    "                observation, reward, terminated, truncated, info = env.step(action)\n",
    "\n",
    "                observation = env.observation_ndarray_to_dict(observation)\n",
    "                env.state = observation\n",
    "        \n",
    "                objective += reward\n",
    "                done = terminated or truncated\n",
    "    \n",
    "            trial_result = pd.DataFrame([{'Ship arrival time': ship_arrival, 'Trial': t, 'Objective': objective}])\n",
    "            results = pd.concat([results, trial_result], ignore_index = True)\n",
    "\n",
    "    return results"
   ]
  },
  {
   "cell_type": "markdown",
   "id": "d275d805-9555-4913-9b9a-037c67d23e6b",
   "metadata": {},
   "source": [
    "Now that `simulate_scenario` is defined, we can use it to simulate the mass evacuation scenario. In the following cell, we do this for a range of ship arrival times - ranging from zero to 168 hours after the individuals arrive at the evacuation site. For each ship arrival time, we run 30 trials and generate results when the `single_sceanrio` is set to `True`, and when it is set to `False`."
   ]
  },
  {
   "cell_type": "code",
   "execution_count": 6,
   "id": "fc38d125-663a-45fd-b3c7-4b9c44891000",
   "metadata": {},
   "outputs": [
    {
     "name": "stderr",
     "output_type": "stream",
     "text": [
      "100%|███████████████████████████████████████████| 30/30 [00:19<00:00,  1.54it/s]\n",
      "100%|███████████████████████████████████████████| 30/30 [00:18<00:00,  1.63it/s]\n",
      "100%|███████████████████████████████████████████| 30/30 [00:18<00:00,  1.63it/s]\n",
      "100%|███████████████████████████████████████████| 30/30 [00:19<00:00,  1.51it/s]\n",
      "100%|███████████████████████████████████████████| 30/30 [00:21<00:00,  1.38it/s]\n",
      "100%|███████████████████████████████████████████| 30/30 [00:17<00:00,  1.73it/s]\n",
      "100%|███████████████████████████████████████████| 30/30 [00:25<00:00,  1.16it/s]\n",
      "100%|███████████████████████████████████████████| 30/30 [00:18<00:00,  1.66it/s]\n",
      "100%|███████████████████████████████████████████| 30/30 [00:03<00:00,  9.72it/s]\n",
      "100%|███████████████████████████████████████████| 30/30 [00:03<00:00,  9.67it/s]\n",
      "100%|███████████████████████████████████████████| 30/30 [00:03<00:00,  9.75it/s]\n",
      "100%|███████████████████████████████████████████| 30/30 [00:03<00:00,  9.72it/s]\n",
      "100%|███████████████████████████████████████████| 30/30 [00:03<00:00,  9.85it/s]\n",
      "100%|███████████████████████████████████████████| 30/30 [00:03<00:00,  9.75it/s]\n",
      "100%|███████████████████████████████████████████| 30/30 [00:03<00:00,  9.75it/s]\n",
      "100%|███████████████████████████████████████████| 30/30 [00:22<00:00,  1.34it/s]\n",
      "100%|███████████████████████████████████████████| 30/30 [00:20<00:00,  1.45it/s]\n",
      "100%|███████████████████████████████████████████| 30/30 [00:20<00:00,  1.46it/s]\n",
      "100%|███████████████████████████████████████████| 30/30 [00:21<00:00,  1.39it/s]\n",
      "100%|███████████████████████████████████████████| 30/30 [00:22<00:00,  1.34it/s]\n",
      "100%|███████████████████████████████████████████| 30/30 [00:20<00:00,  1.46it/s]\n",
      "100%|███████████████████████████████████████████| 30/30 [00:25<00:00,  1.18it/s]\n",
      "100%|███████████████████████████████████████████| 30/30 [00:22<00:00,  1.31it/s]\n",
      "100%|███████████████████████████████████████████| 30/30 [00:05<00:00,  5.58it/s]\n",
      "100%|███████████████████████████████████████████| 30/30 [00:05<00:00,  5.56it/s]\n",
      "100%|███████████████████████████████████████████| 30/30 [00:05<00:00,  5.67it/s]\n",
      "100%|███████████████████████████████████████████| 30/30 [00:05<00:00,  5.63it/s]\n",
      "100%|███████████████████████████████████████████| 30/30 [00:05<00:00,  5.56it/s]\n",
      "100%|███████████████████████████████████████████| 30/30 [00:05<00:00,  5.65it/s]\n",
      "100%|███████████████████████████████████████████| 30/30 [00:05<00:00,  5.58it/s]\n"
     ]
    }
   ],
   "source": [
    "# Simulate the mass evacuation scenario\n",
    "num_trials = 30\n",
    "ship_arrival_time = np.arange(0, 180, 12)\n",
    "\n",
    "results_single = simulate_scenario(env, policy, ship_arrival_time = ship_arrival_time, \\\n",
    "                                   single_scenario = True, num_trials = num_trials)\n",
    "\n",
    "results_multiple = simulate_scenario(env, policy, ship_arrival_time = ship_arrival_time, \\\n",
    "                                     single_scenario = False, num_trials = num_trials)"
   ]
  },
  {
   "cell_type": "markdown",
   "id": "d4e9e1cb-ca88-4411-a848-8013e1a81b61",
   "metadata": {},
   "source": [
    "With the results generated in the above cell, we are now in a position to create a plot similiar to Figure 3 in Rempel (2024). The following cell plots the results generated above when `single_scenario = True` (left panel) and depicts the results as a boxplot for each ship arrival hour. The results from the same scenario, i.e., one helicopter, variable ship arrival, are depicted as red circles which represent the expected number of lives saved as listed in Table 6 in Rempel (2024). Inspecting the figure reveals good agreement between the results presented in Rempel (2024) and the `pyMassEvac` package."
   ]
  },
  {
   "cell_type": "code",
   "execution_count": 7,
   "id": "2ed95380-8d0a-457a-85b7-9f00fd9ad1ac",
   "metadata": {},
   "outputs": [
    {
     "data": {
      "image/png": "[encoded data removed]",
      "text/plain": [
       "<Figure size 640x480 with 2 Axes>"
      ]
     },
     "metadata": {},
     "output_type": "display_data"
    }
   ],
   "source": [
    "# Create a figure simiilar to Figure 3 in Rempel (2024)\n",
    "\n",
    "sns.set_context('paper', font_scale = 0.8)\n",
    "\n",
    "plt.subplot(1,2,1)\n",
    "ax = sns.boxplot(data = results_single, x = 'Ship arrival time', y = 'Objective', color = \"white\")\n",
    "ax.set(ylabel = 'Number of individual saved', xlabel = 'Ship arrival time after tau_k = 0')\n",
    "ax.set_ylim(bottom = 0, top = 200)\n",
    "ax.set_title('single_scenario = True')\n",
    "\n",
    "# Define the mean number of individuals saved as listed in Table 6, column one helo in Rempel (2024).\n",
    "previous_results = np.array([166.20, 161.37, 152.17, 143.73, 133.30, 125.67, 118.60, 114.43, 113.53, 113.53,\n",
    "                             113.53, 113.53, 113.53, 113.53, 113.53])\n",
    "\n",
    "for idx, t in enumerate(ship_arrival_time):\n",
    "    plt.scatter(idx, previous_results[idx], color = 'red')\n",
    "\n",
    "plt.subplot(1,2,2)\n",
    "ax = sns.boxplot(data = results_multiple, x = 'Ship arrival time', y = 'Objective', color = \"gray\")\n",
    "ax.set(ylabel = 'Number of individual saved', xlabel = 'Ship arrival time after tau_k = 0')\n",
    "ax.set_ylim(bottom = 0, top = 200)\n",
    "ax.set_title('single_scenario = False')\n",
    "\n",
    "for idx, t in enumerate(ship_arrival_time):\n",
    "    plt.scatter(idx, previous_results[idx], color = 'red')\n",
    "\n",
    "plt.tight_layout()"
   ]
  },
  {
   "cell_type": "markdown",
   "id": "55ea09be-a6d0-4a4a-93cc-8e9c84a91ca2",
   "metadata": {},
   "source": [
    "As a comparison, the figure in the right panel depicts the results obtained when `single_scenario = False`. In this case, the expected number of individuals saved, differs those values reported in Rempel (2024) which are depicted as red circles. The reason for this difference is that the left panel simulates a single initial state with respect to the individuals' transition times between medical conditions, allowing the comparison between decision policies to focus on the effects of the policies themselves. It should also be noted that the uncertainty in the number of lives saved is larger in the right panel as compared to the left; again, this is directly due to fact that multiple initial states are used."
   ]
  },
  {
   "cell_type": "markdown",
   "id": "d4812f92-a716-4b37-9303-49866437f545",
   "metadata": {},
   "source": [
    "Next, what happens if the ship doesn't show up? To model this scenario, we can set the ship arrival time to a value that is longer than time for all individuals to be transported from the evacuation site via helicopter. Inspection of Figure 6(b) in Rempel (2024) reveals that when using one helicopter, all individuals are removed by hour 400 when the ship arrives at $\\tau_k = 0$. Thus, we will set the ship arrival time to 400."
   ]
  },
  {
   "cell_type": "code",
   "execution_count": 8,
   "id": "c238fbe8-c289-4e45-9076-324aa6e2be0b",
   "metadata": {},
   "outputs": [
    {
     "name": "stderr",
     "output_type": "stream",
     "text": [
      "100%|███████████████████████████████████████████| 30/30 [00:03<00:00,  9.71it/s]\n"
     ]
    }
   ],
   "source": [
    "options = {}\n",
    "options['single_scenario'] = False\n",
    "env.reset(options = options)\n",
    "ship_arrival_time = np.array([400])\n",
    "results = simulate_scenario(env, policy, ship_arrival_time = ship_arrival_time, \\\n",
    "                                   single_scenario = True, num_trials = num_trials)"
   ]
  },
  {
   "cell_type": "markdown",
   "id": "30dbc659-e5b7-4867-917e-74a6f787921d",
   "metadata": {},
   "source": [
    "The expected number of lives saved if the ship does not arrived is:"
   ]
  },
  {
   "cell_type": "code",
   "execution_count": 9,
   "id": "ae417187-0e15-4ba4-940e-f0f8f542f720",
   "metadata": {},
   "outputs": [
    {
     "data": {
      "text/plain": [
       "113.3"
      ]
     },
     "execution_count": 9,
     "metadata": {},
     "output_type": "execute_result"
    }
   ],
   "source": [
    "results.Objective.mean()"
   ]
  },
  {
   "cell_type": "code",
   "execution_count": null,
   "id": "971af51e-3abf-4dd0-8a69-ac589de286a9",
   "metadata": {},
   "outputs": [],
   "source": []
  }
 ],
 "metadata": {
  "kernelspec": {
   "display_name": "Python 3 (ipykernel)",
   "language": "python",
   "name": "python3"
  },
  "language_info": {
   "codemirror_mode": {
    "name": "ipython",
    "version": 3
   },
   "file_extension": ".py",
   "mimetype": "text/x-python",
   "name": "python",
   "nbconvert_exporter": "python",
   "pygments_lexer": "ipython3",
   "version": "3.12.7"
  }
 },
 "nbformat": 4,
 "nbformat_minor": 5
}
