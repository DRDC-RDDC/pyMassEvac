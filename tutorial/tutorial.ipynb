{
 "cells": [
  {
   "cell_type": "code",
   "execution_count": 1,
   "id": "7b076469-9cc9-48d3-b132-713d3c21c608",
   "metadata": {},
   "outputs": [],
   "source": [
    "# Mass evacuation gymnasium tutorial"
   ]
  },
  {
   "cell_type": "code",
   "execution_count": 2,
   "id": "656f5d1f-e9f7-4e26-b11f-f61ef580795a",
   "metadata": {},
   "outputs": [
    {
     "name": "stderr",
     "output_type": "stream",
     "text": [
      "/var/folders/ct/wc1j0dpn1wngl49q5ctqv3g80000gn/T/ipykernel_7826/623134784.py:4: DeprecationWarning: \n",
      "Pyarrow will become a required dependency of pandas in the next major release of pandas (pandas 3.0),\n",
      "(to allow more performant data types, such as the Arrow string type, and better interoperability with other libraries)\n",
      "but was not found to be installed on your system.\n",
      "If this would cause problems for you,\n",
      "please provide us feedback at https://github.com/pandas-dev/pandas/issues/54466\n",
      "        \n",
      "  import pandas as pd\n"
     ]
    }
   ],
   "source": [
    "# import packages\n",
    "import gymnasium as gym\n",
    "import numpy as np\n",
    "import pandas as pd\n",
    "import copy\n",
    "import math\n",
    "import random\n",
    "\n",
    "from gym_mass_evacuation.mass_evacuation import MassEvacuation\n",
    "from gym_mass_evacuation.mass_evacuation_policy import MassEvacuationPolicy"
   ]
  },
  {
   "cell_type": "code",
   "execution_count": 3,
   "id": "2b844a83-623f-4011-9a6c-f75c7a732979",
   "metadata": {},
   "outputs": [],
   "source": [
    "# set the environment's seed and initial state that was used in Rempel (2024)\n",
    "# Set the seed that was used in Rempel (2024)\n",
    "rempel_2024_seed = 20180529\n",
    "\n",
    "# Set the initial state\n",
    "rempel_2024_initial_state = {\n",
    "            'm_e' : {'white' : 120, 'green' : 48, 'yellow' : 8, 'red' : 1.5},\n",
    "            'm_s' : {'green' : 48, 'yellow' : 72, 'red' : 120},\n",
    "            'c_h' : 10,\n",
    "            'c_s' : 50,\n",
    "            'delta_h' : {'white' : 1, 'green' : 1, 'yellow' : 3, 'red' : 3},\n",
    "            'delta_s' : {'white' : 1, 'green' : 1, 'yellow' : 3, 'red' : 3},\n",
    "            'eta_h' : 3,\n",
    "            'eta_sl' : 24,\n",
    "            'eta_su' : 1,\n",
    "            'tau_k' : 0,\n",
    "            'e_k' : 0,\n",
    "            'rho_e_k' : {'white' : 0, 'green' : 475, 'yellow' : 20, 'red' : 5, 'black' : 0},\n",
    "            'rho_s_k' : {'white' : 0, 'green' : 0, 'yellow' : 0, 'red' : 0, 'black' : 0},\n",
    "            'initial_helo_arrival' : [48],\n",
    "            'initial_ship_arrival' : [0]\n",
    "        }"
   ]
  },
  {
   "cell_type": "code",
   "execution_count": 4,
   "id": "84813a8b-fd0b-422e-8f44-9dd30adcc51f",
   "metadata": {},
   "outputs": [],
   "source": [
    "# create the environment and policy objects\n",
    "env = MassEvacuation(initial_state = rempel_2024_initial_state, \\\n",
    "                     seed = rempel_2024_seed,\n",
    "                     default_rng = True)\n",
    "\n",
    "policy = MassEvacuationPolicy()"
   ]
  },
  {
   "cell_type": "code",
   "execution_count": 5,
   "id": "bd1c1803-a048-495b-af0e-fd5b4dec3288",
   "metadata": {},
   "outputs": [
    {
     "name": "stdout",
     "output_type": "stream",
     "text": [
      "Trial :  0  of 30\n",
      "Trial :  1  of 30\n",
      "Trial :  2  of 30\n",
      "Trial :  3  of 30\n",
      "Trial :  4  of 30\n",
      "Trial :  5  of 30\n",
      "Trial :  6  of 30\n",
      "Trial :  7  of 30\n",
      "Trial :  8  of 30\n",
      "Trial :  9  of 30\n",
      "Trial :  10  of 30\n",
      "Trial :  11  of 30\n",
      "Trial :  12  of 30\n",
      "Trial :  13  of 30\n",
      "Trial :  14  of 30\n",
      "Trial :  15  of 30\n",
      "Trial :  16  of 30\n",
      "Trial :  17  of 30\n",
      "Trial :  18  of 30\n",
      "Trial :  19  of 30\n",
      "Trial :  20  of 30\n",
      "Trial :  21  of 30\n",
      "Trial :  22  of 30\n",
      "Trial :  23  of 30\n",
      "Trial :  24  of 30\n",
      "Trial :  25  of 30\n",
      "Trial :  26  of 30\n",
      "Trial :  27  of 30\n",
      "Trial :  28  of 30\n",
      "Trial :  29  of 30\n",
      "[168. 167. 176. 174. 166. 170. 166. 163. 173. 169. 168. 165. 159. 168.\n",
      " 169. 168. 173. 163. 162. 168. 167. 169. 171. 167. 170. 167. 166. 162.\n",
      " 168. 166.]\n",
      "Expected number of lives saved =  167.6\n"
     ]
    }
   ],
   "source": [
    "# define the default action\n",
    "action = {'x_hl_k' : {'white' : 0, 'green' : 0, 'yellow' : 0, 'red' : 0},\n",
    "          'x_sl_k' : {'white' : 0, 'green' : 0, 'yellow' : 0, 'red' : 0},\n",
    "          'x_su_k' : {'white' : 0, 'green' : 0, 'yellow' : 0, 'red' : 0}\n",
    "         }\n",
    "\n",
    "numTrials = 30\n",
    "objectiveValue = np.zeros(numTrials)\n",
    "\n",
    "for t in range(numTrials):\n",
    "    done = False\n",
    "\n",
    "    print('Trial : ', t, ' of', numTrials)\n",
    "    while not done:\n",
    "\n",
    "        # The action space in this is defined by three types of actions that can be taken that depend on the event that is occuring.\n",
    "        # The actions are:\n",
    "        # - load the helicopter with {white, green, yellow, red}\n",
    "        # - load the ship with {whtie, green, yellow, red}\n",
    "        # - unload the ship with {white, green, yellow, red}\n",
    "\n",
    "        action = {'x_hl_k' : \n",
    "                  {'white' : 0, 'green' : 0, 'yellow' : 0, 'red' : 0},\n",
    "                  'x_sl_k' : {'white' : 0, 'green' : 0, 'yellow' : 0, 'red' : 0},\n",
    "                  'x_su_k' : {'white' : 0, 'green' : 0, 'yellow' : 0, 'red' : 0}\n",
    "                  }\n",
    "\n",
    "        if (env.state['e_k']) == 1:\n",
    "\n",
    "            # load the helicopter\n",
    "            params = {}\n",
    "            params['total_capacity'] = env.initial_state['c_h']\n",
    "            params['individual_capacity'] = env.initial_state['delta_h']\n",
    "            action['x_hl_k'] = policy.green_first_loading_policy(state = env.state, params = params)\n",
    "        elif (env.state['e_k'] == 2):\n",
    "\n",
    "            # load the ship\n",
    "            params = {}\n",
    "            params['total_capacity'] = env.initial_state['c_s']\n",
    "            params['individual_capacity'] = env.initial_state['delta_s']\n",
    "            action['x_sl_k'] = policy.green_first_loading_policy(state = env.state, params = params)\n",
    "        elif (env.state['e_k'] == 3):\n",
    "\n",
    "            # unload the ship\n",
    "            action['x_su_k'] = policy.white_unloading_policy(state = env.state) \n",
    "\n",
    "        observation, reward, terminated, truncated, info = env.step(action)\n",
    "        env.state = observation\n",
    "\n",
    "        objectiveValue[t] += reward\n",
    "        done = terminated or truncated\n",
    "\n",
    "    options = {}\n",
    "    options['single_scenario'] = True\n",
    "    env.reset(options = options)\n",
    "\n",
    "print(objectiveValue)\n",
    "print('Expected number of lives saved = ', sum(objectiveValue) / numTrials)"
   ]
  },
  {
   "cell_type": "code",
   "execution_count": 25,
   "id": "2ed95380-8d0a-457a-85b7-9f00fd9ad1ac",
   "metadata": {},
   "outputs": [
    {
     "data": {
      "text/plain": [
       "array([168., 167., 176., 174., 166., 170., 166., 163., 173., 169., 168.,\n",
       "       165., 159., 168., 169., 168., 173., 163., 162., 168., 167., 169.,\n",
       "       171., 167., 170., 167., 166., 162., 168., 166.])"
      ]
     },
     "execution_count": 25,
     "metadata": {},
     "output_type": "execute_result"
    }
   ],
   "source": [
    "objectiveValue"
   ]
  },
  {
   "cell_type": "code",
   "execution_count": 26,
   "id": "e70f0953-84a7-4418-b782-1713ee906755",
   "metadata": {},
   "outputs": [
    {
     "data": {
      "text/plain": [
       "167.6"
      ]
     },
     "execution_count": 26,
     "metadata": {},
     "output_type": "execute_result"
    }
   ],
   "source": [
    "objectiveValue.mean()"
   ]
  },
  {
   "cell_type": "code",
   "execution_count": null,
   "id": "23469ee6-f373-4625-a61b-d2f24f99e0b5",
   "metadata": {},
   "outputs": [],
   "source": []
  }
 ],
 "metadata": {
  "kernelspec": {
   "display_name": "Python 3 (ipykernel)",
   "language": "python",
   "name": "python3"
  },
  "language_info": {
   "codemirror_mode": {
    "name": "ipython",
    "version": 3
   },
   "file_extension": ".py",
   "mimetype": "text/x-python",
   "name": "python",
   "nbconvert_exporter": "python",
   "pygments_lexer": "ipython3",
   "version": "3.12.1"
  }
 },
 "nbformat": 4,
 "nbformat_minor": 5
}
