{
 "cells": [
  {
   "cell_type": "markdown",
   "id": "7cad2c2c-4bc6-4f23-9401-07048a8e40df",
   "metadata": {},
   "source": [
    "# Mass evacuation gymnasium tutorial - simulating with policy function approximations\n",
    "\n",
    "This tutorial demonstrates how to use the `gym_mass_evacuation` python package to study a multi-domain response to a mass evacuation. It does so by using the environment provided by the package to simulate the result of using policies that are best described as Policy Function Approximations.\n",
    "\n",
    "Throughout this tutorial, reference will be made to an article - Rempel (2024). The citation for this article is as follows:\n",
    "\n",
    "Rempel, M., Modelling a major maritime disaster scenario using the universal modelling framework for sequential decisions, Safety Science, Volume 171, 2024, 106379, ISSN 0925-7535, https://doi.org/10.1016/j.ssci.2023.106379."
   ]
  },
  {
   "cell_type": "code",
   "execution_count": 1,
   "id": "656f5d1f-e9f7-4e26-b11f-f61ef580795a",
   "metadata": {},
   "outputs": [
    {
     "name": "stderr",
     "output_type": "stream",
     "text": [
      "/var/folders/ct/wc1j0dpn1wngl49q5ctqv3g80000gn/T/ipykernel_36166/2628661064.py:4: DeprecationWarning: \n",
      "Pyarrow will become a required dependency of pandas in the next major release of pandas (pandas 3.0),\n",
      "(to allow more performant data types, such as the Arrow string type, and better interoperability with other libraries)\n",
      "but was not found to be installed on your system.\n",
      "If this would cause problems for you,\n",
      "please provide us feedback at https://github.com/pandas-dev/pandas/issues/54466\n",
      "        \n",
      "  import pandas as pd\n"
     ]
    }
   ],
   "source": [
    "# import packages\n",
    "import gymnasium as gym\n",
    "import numpy as np\n",
    "import pandas as pd\n",
    "import copy\n",
    "import math\n",
    "import random\n",
    "from tqdm import tqdm\n",
    "from matplotlib import pyplot as plt\n",
    "import seaborn as sns\n",
    "from scipy.stats import bootstrap\n",
    "\n",
    "from IPython.display import clear_output\n",
    "import time"
   ]
  },
  {
   "cell_type": "markdown",
   "id": "93ad6968-8398-4bbf-9e0a-2c254de5dc92",
   "metadata": {},
   "source": [
    "Next, import two modules from the gym_mass_evacuation package. The first module, mass_evacuation, contains the mass evacuation gymnasium environment. The second module, mass_evacuation_policy, contians a set of benchmark policy function approximations as described in Rempel (2024)."
   ]
  },
  {
   "cell_type": "code",
   "execution_count": 2,
   "id": "a3f78c9f-fbcd-4133-9b0f-dea3c445f0be",
   "metadata": {},
   "outputs": [],
   "source": [
    "from gym_mass_evacuation.mass_evacuation import MassEvacuation\n",
    "from gym_mass_evacuation.mass_evacuation_policy import MassEvacuationPolicy"
   ]
  },
  {
   "cell_type": "markdown",
   "id": "6cdb7991-e073-426f-932e-82765a0deddb",
   "metadata": {},
   "source": [
    "## Setting up the initial state, environment, and decision policies\n",
    "\n",
    "First, we define the seed used in the random number generator. This seed, which is the same as used in Rempel (2024) (although not explicitly reported), is used to initiate a random number generator. This single generator is used to: \n",
    "\n",
    "- generate the initial transition times of individuals between medical conditions;\n",
    "- generate new transition times when an individual is loaded on or off the ship; and\n",
    "- generate random numbers to determine if an individual has transitioned between medical conditions each time the transition function is executed.\n",
    "\n",
    "Note: The gym_mass_evacuation package uses a separate random number generator for the benchmark policies, but a seed is not provided in this instance as the benchmark policies used do not require the generator.\n",
    "\n",
    "Second, we define the initial state $S_0$. This is the same initial state used in Rempel (2024), a combination of the parameter listed in Table 5 and the initial values of the state variable listed in equation (1). However, note the addition of the initial helicopter arrival time and initial ship arrival time. In Rempel (2024) these were considered as separate parameters that were input to the simulation; they are now integrated into the initial state in order to provide a clearner interface."
   ]
  },
  {
   "cell_type": "code",
   "execution_count": 3,
   "id": "2b844a83-623f-4011-9a6c-f75c7a732979",
   "metadata": {},
   "outputs": [],
   "source": [
    "# set the environment's seed and initial state that was used in Rempel (2024)\n",
    "rempel_2024_seed = 20180529\n",
    "\n",
    "# Set the initial state\n",
    "rempel_2024_initial_state = {\n",
    "            'm_e' : {'white' : 120, 'green' : 48, 'yellow' : 8, 'red' : 1.5},\n",
    "            'm_s' : {'green' : 48, 'yellow' : 72, 'red' : 120},\n",
    "            'c_h' : 10,\n",
    "            'c_s' : 50,\n",
    "            'delta_h' : {'white' : 1, 'green' : 1, 'yellow' : 3, 'red' : 3},\n",
    "            'delta_s' : {'white' : 1, 'green' : 1, 'yellow' : 3, 'red' : 3},\n",
    "            'eta_h' : 3,\n",
    "            'eta_sl' : 1,\n",
    "            'eta_su' : 24,\n",
    "            'tau_k' : 0,\n",
    "            'e_k' : 0,\n",
    "            'rho_e_k' : {'white' : 0, 'green' : 475, 'yellow' : 20, 'red' : 5},\n",
    "            'rho_s_k' : {'white' : 0, 'green' : 0, 'yellow' : 0, 'red' : 0},\n",
    "            'initial_helo_arrival' : [48],\n",
    "            'initial_ship_arrival' : [0]\n",
    "        }"
   ]
  },
  {
   "cell_type": "markdown",
   "id": "d412ef33-7985-4696-80aa-9f018fa250bd",
   "metadata": {},
   "source": [
    "Next, we create the gymnasium environment and a policy object. The gymnasium environment requries three parameters: \n",
    "\n",
    "- the initial state $S_0$;\n",
    "- the seed for the random number generator; and\n",
    "- whether or not the np.random.default_rng generator is to be used (default_rng = True) or not (default_rng = False).\n",
    "\n",
    "In the case of False, the random number generator is created using np.random.RandomState (which was used in Rempel (2024)). Given that np.random.default_rng is a replacement for RandomState, it is advised to set default_rng = True. In the case below, we set it to False to generate results that are in good agreement with Rempel (2024). "
   ]
  },
  {
   "cell_type": "code",
   "execution_count": 4,
   "id": "84813a8b-fd0b-422e-8f44-9dd30adcc51f",
   "metadata": {},
   "outputs": [],
   "source": [
    "# create the environment and policy objects\n",
    "env = MassEvacuation(initial_state = rempel_2024_initial_state, \\\n",
    "                     seed = rempel_2024_seed,\n",
    "                     default_rng = False)\n",
    "\n",
    "policy = MassEvacuationPolicy()"
   ]
  },
  {
   "cell_type": "markdown",
   "id": "548f455a-5159-422f-8844-03dd93998476",
   "metadata": {},
   "source": [
    "## Setting up the simulation"
   ]
  },
  {
   "cell_type": "markdown",
   "id": "74ee0db8-d4f5-468f-bef0-1dd10a149552",
   "metadata": {},
   "source": [
    "With the environment and policy objects created, we are now in a position to define a function to execute the simulation. The aim of this simulation is to generate results similar to those presented in Figure 3 in Rempel (2024); that is, given one helicopter that is responding to the incident, how does the number of lives saved depend on the arrival time of the ship. Given this aim, this function `simulate_scenario` takes five parameters:\n",
    "\n",
    "- `env`: the environment object that represents the transition function and generates the exoengous information;\n",
    "- `policy`: the policy object that contains the policies that will be used to load a helicopter, load the ship, and unload the ship;\n",
    "- `ship_arrival_time': a numpy array that lists the hours that the ship arrives after the individuals arrive at the evacuation site;\n",
    "- `single_scenario`: a boolean that determines if when the environment is reset whether it defaults to the original state as defined by $S_0$ (`single_scenario = True`), or whether new initial transition times between medical conditions for the individauls are randomly generated (`single_scenario = False`). The default value is set to True; and\n",
    "- `num_trials`: the number of trials that are executed for each ship arrival time. The defualt value is set to 30.\n",
    "\n",
    "The function returns a Pandas data frame that contains three columns: the ship arrival time, the trial number, and the number of lives saved. "
   ]
  },
  {
   "cell_type": "code",
   "execution_count": 5,
   "id": "bd1c1803-a048-495b-af0e-fd5b4dec3288",
   "metadata": {},
   "outputs": [],
   "source": [
    "def simulate_scenario(env, policy, ship_arrival_time, single_scenario = True, num_trials = 30):\n",
    "\n",
    "    # define the default action\n",
    "    action = {'x_hl_k' : {'white' : 0, 'green' : 0, 'yellow' : 0, 'red' : 0},\n",
    "              'x_sl_k' : {'white' : 0, 'green' : 0, 'yellow' : 0, 'red' : 0},\n",
    "              'x_su_k' : {'white' : 0, 'green' : 0, 'yellow' : 0, 'red' : 0}\n",
    "             }\n",
    "    \n",
    "    # Create a pandas data frame to store the results\n",
    "    results = pd.DataFrame(columns = ['Ship arrival time', 'Trial', 'Objective'])\n",
    "    \n",
    "    for idx, ship_arrival in enumerate(ship_arrival_time):\n",
    "    \n",
    "        env.initial_state['initial_ship_arrival'] = [ship_arrival]\n",
    "        \n",
    "        for t in tqdm(range(num_trials)):\n",
    "    \n",
    "            objective = 0\n",
    "            done = False\n",
    "        \n",
    "            while not done:\n",
    "        \n",
    "                # The action space in this is defined by three types of actions that can be taken that depend on the event that is occuring.\n",
    "                # The actions are:\n",
    "                # - load the helicopter with {white, green, yellow, red}\n",
    "                # - load the ship with {whtie, green, yellow, red}\n",
    "                # - unload the ship with {white, green, yellow, red}\n",
    "        \n",
    "                action = {'x_hl_k' : {'white' : 0, 'green' : 0, 'yellow' : 0, 'red' : 0},\n",
    "                          'x_sl_k' : {'white' : 0, 'green' : 0, 'yellow' : 0, 'red' : 0},\n",
    "                          'x_su_k' : {'white' : 0, 'green' : 0, 'yellow' : 0, 'red' : 0}\n",
    "                          }\n",
    "        \n",
    "                if (env.state['e_k']) == 1:\n",
    "        \n",
    "                    # load the helicopter\n",
    "                    params = {}\n",
    "                    params['total_capacity'] = env.initial_state['c_h']\n",
    "                    params['individual_capacity'] = env.initial_state['delta_h']\n",
    "                    action['x_hl_k'] = policy.green_first_loading_policy(state = env.state, \\\n",
    "                                                                         params = params)\n",
    "                elif (env.state['e_k'] == 2):\n",
    "        \n",
    "                    # load the ship\n",
    "                    params = {}\n",
    "                    params['total_capacity'] = env.initial_state['c_s']\n",
    "                    params['individual_capacity'] = env.initial_state['delta_s']\n",
    "                    action['x_sl_k'] = policy.green_first_loading_policy(state = env.state, \\\n",
    "                                                                         params = params)\n",
    "                elif (env.state['e_k'] == 3):\n",
    "        \n",
    "                    # unload the ship\n",
    "                    action['x_su_k'] = policy.white_unloading_policy(state = env.state) \n",
    "\n",
    "                # Convert action from a dict to ndarray\n",
    "                action = env.action_dict_to_ndarray(action)\n",
    "                \n",
    "                observation, reward, terminated, truncated, info = env.step(action)\n",
    "\n",
    "                observation = env.observation_ndarray_to_dict(observation)\n",
    "                env.state = observation\n",
    "        \n",
    "                objective += reward\n",
    "                done = terminated or truncated\n",
    "    \n",
    "            trial_result = pd.DataFrame([{'Ship arrival time': ship_arrival, 'Trial': t, 'Objective': objective}])\n",
    "            results = pd.concat([results, trial_result], ignore_index = True)\n",
    "            \n",
    "            options = {}\n",
    "            options['single_scenario'] = single_scenario\n",
    "            env.reset(options = options)\n",
    "\n",
    "    return results"
   ]
  },
  {
   "cell_type": "markdown",
   "id": "d275d805-9555-4913-9b9a-037c67d23e6b",
   "metadata": {},
   "source": [
    "Now that `simulate_scenario` is defined, we can use it to simulate the mass evacuation scenario. In the following cell, we do this for a range of ship arrival times - ranging from zero to 168 hours after the individuals arrive at the evacuation site. For each ship arrival time, we run 30 trials and generate results when the `single_sceanrio` is set to `True`, and when it is set to `False`."
   ]
  },
  {
   "cell_type": "code",
   "execution_count": 6,
   "id": "fc38d125-663a-45fd-b3c7-4b9c44891000",
   "metadata": {},
   "outputs": [
    {
     "name": "stderr",
     "output_type": "stream",
     "text": [
      "100%|███████████████████████████████████████████| 30/30 [00:22<00:00,  1.34it/s]\n",
      "100%|███████████████████████████████████████████| 30/30 [00:21<00:00,  1.42it/s]\n",
      "100%|███████████████████████████████████████████| 30/30 [00:21<00:00,  1.39it/s]\n",
      "100%|███████████████████████████████████████████| 30/30 [00:21<00:00,  1.40it/s]\n",
      "100%|███████████████████████████████████████████| 30/30 [00:24<00:00,  1.20it/s]\n",
      "100%|███████████████████████████████████████████| 30/30 [00:20<00:00,  1.44it/s]\n",
      "100%|███████████████████████████████████████████| 30/30 [00:30<00:00,  1.01s/it]\n",
      "100%|███████████████████████████████████████████| 30/30 [00:21<00:00,  1.42it/s]\n",
      "100%|███████████████████████████████████████████| 30/30 [00:04<00:00,  6.75it/s]\n",
      "100%|███████████████████████████████████████████| 30/30 [00:03<00:00,  8.50it/s]\n",
      "100%|███████████████████████████████████████████| 30/30 [00:03<00:00,  8.61it/s]\n",
      "100%|███████████████████████████████████████████| 30/30 [00:03<00:00,  8.58it/s]\n",
      "100%|███████████████████████████████████████████| 30/30 [00:03<00:00,  8.60it/s]\n",
      "100%|███████████████████████████████████████████| 30/30 [00:03<00:00,  8.61it/s]\n",
      "100%|███████████████████████████████████████████| 30/30 [00:03<00:00,  8.62it/s]\n",
      "100%|███████████████████████████████████████████| 30/30 [00:23<00:00,  1.27it/s]\n",
      "100%|███████████████████████████████████████████| 30/30 [00:23<00:00,  1.29it/s]\n",
      "100%|███████████████████████████████████████████| 30/30 [00:23<00:00,  1.28it/s]\n",
      "100%|███████████████████████████████████████████| 30/30 [00:23<00:00,  1.29it/s]\n",
      "100%|███████████████████████████████████████████| 30/30 [00:24<00:00,  1.20it/s]\n",
      "100%|███████████████████████████████████████████| 30/30 [00:21<00:00,  1.37it/s]\n",
      "100%|███████████████████████████████████████████| 30/30 [00:29<00:00,  1.03it/s]\n",
      "100%|███████████████████████████████████████████| 30/30 [00:24<00:00,  1.22it/s]\n",
      "100%|███████████████████████████████████████████| 30/30 [00:06<00:00,  4.67it/s]\n",
      "100%|███████████████████████████████████████████| 30/30 [00:05<00:00,  5.20it/s]\n",
      "100%|███████████████████████████████████████████| 30/30 [00:05<00:00,  5.35it/s]\n",
      "100%|███████████████████████████████████████████| 30/30 [00:05<00:00,  5.33it/s]\n",
      "100%|███████████████████████████████████████████| 30/30 [00:05<00:00,  5.34it/s]\n",
      "100%|███████████████████████████████████████████| 30/30 [00:05<00:00,  5.39it/s]\n",
      "100%|███████████████████████████████████████████| 30/30 [00:05<00:00,  5.31it/s]\n"
     ]
    }
   ],
   "source": [
    "# Simulate the mass evacuation scenario\n",
    "num_trials = 30\n",
    "ship_arrival_time = np.arange(0, 180, 12)\n",
    "\n",
    "results_single = simulate_scenario(env, policy, ship_arrival_time = ship_arrival_time, \\\n",
    "                                   single_scenario = True, num_trials = num_trials)\n",
    "results_multiple = simulate_scenario(env, policy, ship_arrival_time = ship_arrival_time, \\\n",
    "                                     single_scenario = False, num_trials = num_trials)\n",
    "\n",
    "# Create a data frame to summarize the results\n",
    "#summary = pd.DataFrame(columns = ['Ship arrival time', 'Objective mean', 'CI low', 'CI high'])\n",
    "#rng = np.random.default_rng()\n",
    "\n",
    "#for idx, ship_arrival in enumerate(ship_arrival_time):\n",
    "\n",
    "#    data = (results_single[results_single['Ship arrival time'] == ship_arrival]['Objective'], )\n",
    "\n",
    "#    ci_low, ci_high = bootstrap(data, np.mean, confidence_level = 0.95, random_state = rng).confidence_interval\n",
    "#    trial_result = pd.DataFrame([{'Ship arrival time' : ship_arrival, \\\n",
    "#                                 'Objective mean' : results_single[results_single['Ship arrival time'] == \\\n",
    "#                                  ship_arrival]['Objective'].mean(), \\\n",
    "#                                 'CI low' : ci_low, \\\n",
    "#                                 'CI high' : ci_high}]\n",
    "#                               )\n",
    "#    summary = pd.concat([summary, trial_result], ignore_index = True)"
   ]
  },
  {
   "cell_type": "markdown",
   "id": "d4e9e1cb-ca88-4411-a848-8013e1a81b61",
   "metadata": {},
   "source": [
    "With the results generated in the above cell, we are now in a position to create a plot similiar to Figure 3 in Rempel (2024). The following cell plots the results generated above when `single_scenario = True` (left panel) and depicts the results as a boxplot for each ship arrival hour. The results from the same scenario, i.e., one helicopter, variable ship arrival, are depicted as red circles which represent the expected number of lives saved as listed in Table 6 in Rempel (2024). Inspecting the figure reveals good agreement between the results presented in Rempel (2024) and the `gym_mass_evacuation` package."
   ]
  },
  {
   "cell_type": "code",
   "execution_count": 7,
   "id": "2ed95380-8d0a-457a-85b7-9f00fd9ad1ac",
   "metadata": {},
   "outputs": [
    {
     "data": {
      "image/png": "[encoded data removed]",
      "text/plain": [
       "<Figure size 640x480 with 2 Axes>"
      ]
     },
     "metadata": {},
     "output_type": "display_data"
    }
   ],
   "source": [
    "# Create a figure simiilar to Figure 3 in Rempel (2024)\n",
    "\n",
    "sns.set_context('paper', font_scale = 0.8)\n",
    "\n",
    "plt.subplot(1,2,1)\n",
    "ax = sns.boxplot(data = results_single, x = 'Ship arrival time', y = 'Objective', color = \"white\")\n",
    "ax.set(ylabel = 'Number of individual saved', xlabel = 'Ship arrival time after tau_k = 0')\n",
    "ax.set_ylim(bottom = 0, top = 200)\n",
    "ax.set_title('single_scenario = True')\n",
    "\n",
    "# Define the mean number of individuals saved as listed in Table 6, column one helo in Rempel (2024).\n",
    "previous_results = np.array([166.20, 161.37, 152.17, 143.73, 133.30, 125.67, 118.60, 114.43, 113.53, 113.53,\n",
    "                             113.53, 113.53, 113.53, 113.53, 113.53])\n",
    "\n",
    "for idx, t in enumerate(ship_arrival_time):\n",
    "    plt.scatter(idx, previous_results[idx], color = 'red')\n",
    "\n",
    "plt.subplot(1,2,2)\n",
    "ax = sns.boxplot(data = results_multiple, x = 'Ship arrival time', y = 'Objective', color = \"gray\")\n",
    "ax.set(ylabel = 'Number of individual saved', xlabel = 'Ship arrival time after tau_k = 0')\n",
    "ax.set_ylim(bottom = 0, top = 200)\n",
    "ax.set_title('single_scenario = False')\n",
    "\n",
    "for idx, t in enumerate(ship_arrival_time):\n",
    "    plt.scatter(idx, previous_results[idx], color = 'red')\n",
    "\n",
    "plt.tight_layout()"
   ]
  },
  {
   "cell_type": "markdown",
   "id": "55ea09be-a6d0-4a4a-93cc-8e9c84a91ca2",
   "metadata": {},
   "source": [
    "As a comparison, the figure in the right panel depicts the results obtained when `single_scenario = False`. In this case, the expected number of individuals saved differs those values reported in Rempel (2024) and given in the left panel. The reason for this difference is that the left panel simulates a single initial state with respect to the individuals' transition times between medical conditions, allowing a comparison between decision policies to focus on the effects of the policies themselves. It should also be noted that the uncertainty in the number of lives saved if larger in the right panel as compared to the left; again, this is directly due to fact that multiple initial states are used."
   ]
  },
  {
   "cell_type": "markdown",
   "id": "d59e27ed-f602-47aa-adbc-e62523d9390d",
   "metadata": {},
   "source": [
    "What is the size of the state space that is relevant for the ship loading policy $X^{sl}(S_k)$? Well, there are two componnets of the state space $S_k$ that are relevant: the distribution of the individuals at the evacuation site $\\rho^e_k$ and the distribution of the individuals onboard the ship $\\rho^s_k$. "
   ]
  },
  {
   "cell_type": "code",
   "execution_count": 57,
   "id": "c28fe62c-be00-49fc-b4d8-7683e5431990",
   "metadata": {},
   "outputs": [
    {
     "name": "stdout",
     "output_type": "stream",
     "text": [
      "7371\n"
     ]
    }
   ],
   "source": [
    "evac_site_state_size = 0\n",
    "ship_state_size = 0\n",
    "initial_individual_count = 25\n",
    "triage_categories = 4\n",
    "max_ship_capacity = 5\n",
    "\n",
    "for i in range(0, initial_individual_count + 1):\n",
    "    evac_site_state_size += math.comb(i + triage_categories - 1, triage_categories - 1)\n",
    "\n",
    "for i in range(0, max_ship_capacity + 1):\n",
    "    ship_state_size += math.comb(i + triage_categories - 1, triage_categories - 1)\n",
    "    \n",
    "print(evac_site_state_size * ship_state_size)\n",
    "\n",
    "x = np.array([0])\n",
    "y = np.array([np.random.uniform()])\n",
    "\n",
    "#for i in range(1, 10):\n",
    "#    x = np.append(x, i)\n",
    "#    y = np.append(y, np.random.uniform())\n",
    "#    plt.plot(x, y, '-o', color = 'black')\n",
    "#    clear_output(wait=True)\n",
    "#    display(plt.gcf())\n",
    "#    time.sleep(1.0)\n",
    "    "
   ]
  },
  {
   "cell_type": "code",
   "execution_count": 4,
   "id": "23469ee6-f373-4625-a61b-d2f24f99e0b5",
   "metadata": {},
   "outputs": [
    {
     "name": "stdout",
     "output_type": "stream",
     "text": [
      "{'tau_k': 0, 'e_k': 0, 'rho_e_k': {'white': 0, 'green': 475, 'yellow': 20, 'red': 5}, 'rho_s_k': {'white': 0, 'green': 0, 'yellow': 0, 'red': 0}}\n",
      "{'x_hl_k': {'white': 7, 'green': 7, 'yellow': 8, 'red': 10}, 'x_sl_k': {'white': 41, 'green': 26, 'yellow': 24, 'red': 7}, 'x_su_k': {'white': 14, 'green': 39, 'yellow': 46, 'red': 23}}\n",
      "{'tau_k': 0, 'rho_e_k': {'white': 0, 'green': 475, 'yellow': 20, 'red': 5}, 'rho_s_k': {'white': 0, 'green': 0, 'yellow': 0, 'red': 0}, 'e_k': 2}\n"
     ]
    }
   ],
   "source": [
    "# Set the initial state\n",
    "rempel_2024_initial_state = {\n",
    "            'm_e' : {'white' : 120, 'green' : 48, 'yellow' : 8, 'red' : 1.5},\n",
    "            'm_s' : {'green' : 48, 'yellow' : 72, 'red' : 120},\n",
    "            'c_h' : 10,\n",
    "            'c_s' : 50,\n",
    "            'delta_h' : {'white' : 1, 'green' : 1, 'yellow' : 3, 'red' : 3},\n",
    "            'delta_s' : {'white' : 1, 'green' : 1, 'yellow' : 3, 'red' : 3},\n",
    "            'eta_h' : 3,\n",
    "            'eta_sl' : 1,\n",
    "            'eta_su' : 24,\n",
    "            'tau_k' : 0,\n",
    "            'e_k' : 0,\n",
    "            'rho_e_k' : {'white' : 0, 'green' : 25, 'yellow' : 0, 'red' : 0},\n",
    "            'rho_s_k' : {'white' : 0, 'green' : 0, 'yellow' : 0, 'red' : 0},\n",
    "            'initial_helo_arrival' : [48],\n",
    "            'initial_ship_arrival' : [0]\n",
    "        }\n",
    "\n",
    "\n",
    "# create the environment and policy objects\n",
    "env = MassEvacuation(initial_state = rempel_2024_initial_state, \\\n",
    "                     seed = rempel_2024_seed,\n",
    "                     default_rng = False)\n",
    "\n",
    "print(env.state)\n",
    "\n",
    "# sample an action\n",
    "action_sample = env.action_space.sample()\n",
    "\n",
    "# convert the sampled action into an action that can be used by the environment\n",
    "action = {'x_hl_k' : {'white' : action_sample['x_hl_k'][0,0], \n",
    "                      'green' : action_sample['x_hl_k'][0,1], \n",
    "                      'yellow' : action_sample['x_hl_k'][0,2], \n",
    "                      'red' : action_sample['x_hl_k'][0,3]}, \\\n",
    "          'x_sl_k' : {'white' : action_sample['x_sl_k'][0,0], \n",
    "                      'green' : action_sample['x_sl_k'][0,1], \n",
    "                      'yellow' : action_sample['x_sl_k'][0,2],\n",
    "                      'red' : action_sample['x_sl_k'][0,3]},\n",
    "          'x_su_k' : {'white' : action_sample['x_su_k'][0,0], \n",
    "                      'green' : action_sample['x_su_k'][0,1], \n",
    "                      'yellow' : action_sample['x_su_k'][0,2], \n",
    "                      'red' : action_sample['x_su_k'][0,3]}\n",
    "                  }\n",
    "\n",
    "print(action)\n",
    "\n",
    "# submit the action to the environment and check what is returned\n",
    "observation, reward, terminated, truncated, info = env.step(action)\n",
    "print(observation)"
   ]
  },
  {
   "cell_type": "code",
   "execution_count": 7,
   "id": "beafca09-a613-4f42-af71-9619c94d3d7b",
   "metadata": {},
   "outputs": [
    {
     "data": {
      "text/plain": [
       "array([[1, 2, 7, 3]], dtype=int32)"
      ]
     },
     "execution_count": 7,
     "metadata": {},
     "output_type": "execute_result"
    }
   ],
   "source": []
  },
  {
   "cell_type": "code",
   "execution_count": 41,
   "id": "31e72b6a-a952-4ddf-ba6e-ee2699527a50",
   "metadata": {},
   "outputs": [
    {
     "data": {
      "text/plain": [
       "123.53333333333333"
      ]
     },
     "execution_count": 41,
     "metadata": {},
     "output_type": "execute_result"
    }
   ],
   "source": [
    "objective_value[10,:].mean()"
   ]
  },
  {
   "cell_type": "code",
   "execution_count": null,
   "id": "f3d1fea1-3ed1-4773-a603-7f7f762211f7",
   "metadata": {},
   "outputs": [],
   "source": []
  }
 ],
 "metadata": {
  "kernelspec": {
   "display_name": "Python 3 (ipykernel)",
   "language": "python",
   "name": "python3"
  },
  "language_info": {
   "codemirror_mode": {
    "name": "ipython",
    "version": 3
   },
   "file_extension": ".py",
   "mimetype": "text/x-python",
   "name": "python",
   "nbconvert_exporter": "python",
   "pygments_lexer": "ipython3",
   "version": "3.12.1"
  }
 },
 "nbformat": 4,
 "nbformat_minor": 5
}
