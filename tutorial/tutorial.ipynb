{
 "cells": [
  {
   "cell_type": "markdown",
   "id": "7cad2c2c-4bc6-4f23-9401-07048a8e40df",
   "metadata": {},
   "source": [
    "# Mass evacuation gymnasium tutorial\n",
    "\n",
    "This tutorial demonstrates how to use the gym_mass_evacuation python package to study a multi-domain response to a mass evacuation. "
   ]
  },
  {
   "cell_type": "code",
   "execution_count": 1,
   "id": "656f5d1f-e9f7-4e26-b11f-f61ef580795a",
   "metadata": {},
   "outputs": [
    {
     "name": "stderr",
     "output_type": "stream",
     "text": [
      "/var/folders/ct/wc1j0dpn1wngl49q5ctqv3g80000gn/T/ipykernel_30319/3277356308.py:4: DeprecationWarning: \n",
      "Pyarrow will become a required dependency of pandas in the next major release of pandas (pandas 3.0),\n",
      "(to allow more performant data types, such as the Arrow string type, and better interoperability with other libraries)\n",
      "but was not found to be installed on your system.\n",
      "If this would cause problems for you,\n",
      "please provide us feedback at https://github.com/pandas-dev/pandas/issues/54466\n",
      "        \n",
      "  import pandas as pd\n"
     ]
    }
   ],
   "source": [
    "# import packages\n",
    "import gymnasium as gym\n",
    "import numpy as np\n",
    "import pandas as pd\n",
    "import copy\n",
    "import math\n",
    "import random\n",
    "from tqdm import tqdm\n",
    "from matplotlib import pyplot as plt\n",
    "import seaborn as sns"
   ]
  },
  {
   "cell_type": "markdown",
   "id": "93ad6968-8398-4bbf-9e0a-2c254de5dc92",
   "metadata": {},
   "source": [
    "Next, import two modules from the gym_mass_evacuation package. The first module, mass_evacuation, contains the mass evacuation gymnasium environment. The second module, mass_evacuation_policy, contians a set of benchmark policy function approximations as described in Rempel (2024)."
   ]
  },
  {
   "cell_type": "code",
   "execution_count": 2,
   "id": "a3f78c9f-fbcd-4133-9b0f-dea3c445f0be",
   "metadata": {},
   "outputs": [],
   "source": [
    "from gym_mass_evacuation.mass_evacuation import MassEvacuation\n",
    "from gym_mass_evacuation.mass_evacuation_policy import MassEvacuationPolicy"
   ]
  },
  {
   "cell_type": "markdown",
   "id": "6cdb7991-e073-426f-932e-82765a0deddb",
   "metadata": {},
   "source": [
    "## Setting up the initial state, environment, and decision policies"
   ]
  },
  {
   "cell_type": "code",
   "execution_count": 3,
   "id": "2b844a83-623f-4011-9a6c-f75c7a732979",
   "metadata": {},
   "outputs": [],
   "source": [
    "# set the environment's seed and initial state that was used in Rempel (2024)\n",
    "# Set the seed that was used in Rempel (2024)\n",
    "rempel_2024_seed = 20180529\n",
    "\n",
    "# Set the initial state\n",
    "rempel_2024_initial_state = {\n",
    "            'm_e' : {'white' : 120, 'green' : 48, 'yellow' : 8, 'red' : 1.5},\n",
    "            'm_s' : {'green' : 48, 'yellow' : 72, 'red' : 120},\n",
    "            'c_h' : 10,\n",
    "            'c_s' : 50,\n",
    "            'delta_h' : {'white' : 1, 'green' : 1, 'yellow' : 3, 'red' : 3},\n",
    "            'delta_s' : {'white' : 1, 'green' : 1, 'yellow' : 3, 'red' : 3},\n",
    "            'eta_h' : 3,\n",
    "            'eta_sl' : 1,\n",
    "            'eta_su' : 24,\n",
    "            'tau_k' : 0,\n",
    "            'e_k' : 0,\n",
    "            'rho_e_k' : {'white' : 0, 'green' : 475, 'yellow' : 20, 'red' : 5},\n",
    "            'rho_s_k' : {'white' : 0, 'green' : 0, 'yellow' : 0, 'red' : 0},\n",
    "            'initial_helo_arrival' : [48],\n",
    "            'initial_ship_arrival' : [0]\n",
    "        }"
   ]
  },
  {
   "cell_type": "code",
   "execution_count": 4,
   "id": "84813a8b-fd0b-422e-8f44-9dd30adcc51f",
   "metadata": {},
   "outputs": [],
   "source": [
    "# create the environment and policy objects\n",
    "env = MassEvacuation(initial_state = rempel_2024_initial_state, \\\n",
    "                     seed = rempel_2024_seed,\n",
    "                     default_rng = False)\n",
    "\n",
    "policy = MassEvacuationPolicy()"
   ]
  },
  {
   "cell_type": "code",
   "execution_count": 5,
   "id": "bd1c1803-a048-495b-af0e-fd5b4dec3288",
   "metadata": {},
   "outputs": [
    {
     "name": "stderr",
     "output_type": "stream",
     "text": [
      "100%|██████████████████████████████████████████████████████████████████████████| 30/30 [00:21<00:00,  1.41it/s]\n",
      "100%|██████████████████████████████████████████████████████████████████████████| 30/30 [00:20<00:00,  1.49it/s]\n",
      "100%|██████████████████████████████████████████████████████████████████████████| 30/30 [00:20<00:00,  1.46it/s]\n",
      "100%|██████████████████████████████████████████████████████████████████████████| 30/30 [00:20<00:00,  1.47it/s]\n",
      "100%|██████████████████████████████████████████████████████████████████████████| 30/30 [00:23<00:00,  1.27it/s]\n",
      "100%|██████████████████████████████████████████████████████████████████████████| 30/30 [00:19<00:00,  1.51it/s]\n",
      "100%|██████████████████████████████████████████████████████████████████████████| 30/30 [00:29<00:00,  1.03it/s]\n",
      "100%|██████████████████████████████████████████████████████████████████████████| 30/30 [00:20<00:00,  1.48it/s]\n",
      "100%|██████████████████████████████████████████████████████████████████████████| 30/30 [00:04<00:00,  7.01it/s]\n",
      "100%|██████████████████████████████████████████████████████████████████████████| 30/30 [00:03<00:00,  8.85it/s]\n",
      "100%|██████████████████████████████████████████████████████████████████████████| 30/30 [00:03<00:00,  8.95it/s]\n",
      "100%|██████████████████████████████████████████████████████████████████████████| 30/30 [00:03<00:00,  8.99it/s]\n",
      "100%|██████████████████████████████████████████████████████████████████████████| 30/30 [00:03<00:00,  8.98it/s]\n",
      "100%|██████████████████████████████████████████████████████████████████████████| 30/30 [00:03<00:00,  8.83it/s]\n",
      "100%|██████████████████████████████████████████████████████████████████████████| 30/30 [00:03<00:00,  8.93it/s]\n"
     ]
    }
   ],
   "source": [
    "# define the default action\n",
    "action = {'x_hl_k' : {'white' : 0, 'green' : 0, 'yellow' : 0, 'red' : 0},\n",
    "          'x_sl_k' : {'white' : 0, 'green' : 0, 'yellow' : 0, 'red' : 0},\n",
    "          'x_su_k' : {'white' : 0, 'green' : 0, 'yellow' : 0, 'red' : 0}\n",
    "         }\n",
    "\n",
    "num_trials = 30\n",
    "ship_arrival_time = np.arange(0, 180, 12)\n",
    "objective_value = np.zeros([len(ship_arrival_time), num_trials])\n",
    "\n",
    "for idx, ship_arrival in enumerate(ship_arrival_time):\n",
    "\n",
    "    env.initial_state['initial_ship_arrival'] = [ship_arrival]\n",
    "    for t in tqdm(range(num_trials)):\n",
    "        done = False\n",
    "    \n",
    "        while not done:\n",
    "    \n",
    "            # The action space in this is defined by three types of actions that can be taken that depend on the event that is occuring.\n",
    "            # The actions are:\n",
    "            # - load the helicopter with {white, green, yellow, red}\n",
    "            # - load the ship with {whtie, green, yellow, red}\n",
    "            # - unload the ship with {white, green, yellow, red}\n",
    "    \n",
    "            action = {'x_hl_k' : {'white' : 0, 'green' : 0, 'yellow' : 0, 'red' : 0},\n",
    "                      'x_sl_k' : {'white' : 0, 'green' : 0, 'yellow' : 0, 'red' : 0},\n",
    "                      'x_su_k' : {'white' : 0, 'green' : 0, 'yellow' : 0, 'red' : 0}\n",
    "                      }\n",
    "    \n",
    "            if (env.state['e_k']) == 1:\n",
    "    \n",
    "                # load the helicopter\n",
    "                params = {}\n",
    "                params['total_capacity'] = env.initial_state['c_h']\n",
    "                params['individual_capacity'] = env.initial_state['delta_h']\n",
    "                action['x_hl_k'] = policy.green_first_loading_policy(state = env.state, \\\n",
    "                                                                     params = params)\n",
    "            elif (env.state['e_k'] == 2):\n",
    "    \n",
    "                # load the ship\n",
    "                params = {}\n",
    "                params['total_capacity'] = env.initial_state['c_s']\n",
    "                params['individual_capacity'] = env.initial_state['delta_s']\n",
    "                action['x_sl_k'] = policy.green_first_loading_policy(state = env.state, \\\n",
    "                                                                     params = params)\n",
    "            elif (env.state['e_k'] == 3):\n",
    "    \n",
    "                # unload the ship\n",
    "                action['x_su_k'] = policy.white_unloading_policy(state = env.state) \n",
    "    \n",
    "            observation, reward, terminated, truncated, info = env.step(action)\n",
    "            env.state = observation\n",
    "    \n",
    "            objective_value[idx, t] += reward\n",
    "            done = terminated or truncated\n",
    "    \n",
    "        options = {}\n",
    "        options['single_scenario'] = True\n",
    "        env.reset(options = options)"
   ]
  },
  {
   "cell_type": "code",
   "execution_count": 6,
   "id": "fc38d125-663a-45fd-b3c7-4b9c44891000",
   "metadata": {},
   "outputs": [
    {
     "name": "stdout",
     "output_type": "stream",
     "text": [
      "Expected number of lives saved when the ship arrives at t = 0 :  167.46666666666667\n"
     ]
    }
   ],
   "source": [
    "print('Expected number of lives saved when the ship arrives at t = 0 : ', objective_value[0, :].mean())"
   ]
  },
  {
   "cell_type": "code",
   "execution_count": 18,
   "id": "2ed95380-8d0a-457a-85b7-9f00fd9ad1ac",
   "metadata": {},
   "outputs": [
    {
     "name": "stderr",
     "output_type": "stream",
     "text": [
      "/Users/mark/anaconda3/envs/mass_evacuation/lib/python3.12/site-packages/seaborn/_oldcore.py:1119: FutureWarning: use_inf_as_na option is deprecated and will be removed in a future version. Convert inf values to NaN before operating instead.\n",
      "  with pd.option_context('mode.use_inf_as_na', True):\n",
      "/Users/mark/anaconda3/envs/mass_evacuation/lib/python3.12/site-packages/seaborn/_oldcore.py:1119: FutureWarning: use_inf_as_na option is deprecated and will be removed in a future version. Convert inf values to NaN before operating instead.\n",
      "  with pd.option_context('mode.use_inf_as_na', True):\n"
     ]
    },
    {
     "data": {
      "text/plain": [
       "<matplotlib.lines.Line2D at 0x177f00590>"
      ]
     },
     "execution_count": 18,
     "metadata": {},
     "output_type": "execute_result"
    },
    {
     "data": {
      "image/png": "[encoded data removed]",
      "text/plain": [
       "<Figure size 640x480 with 2 Axes>"
      ]
     },
     "metadata": {},
     "output_type": "display_data"
    }
   ],
   "source": [
    "fig, ax = plt.subplots(1,2)\n",
    "sns.histplot(objective_value[len(ship_arrival_time) - 1, :], alpha = 0.5, ax = ax[0])\n",
    "ax[0].axvline(113.53, 0, 1, color = 'red')\n",
    "ax[0].axvline(113.53 + 0.64, 0, 1, color = 'red', linestyle = '-.')\n",
    "ax[0].axvline(113.53 - 0.64, 0, 1, color = 'red', linestyle = '-.')\n",
    "ax[0].axvline(objective_value[len(ship_arrival_time) - 1, :].mean(), 0, 1, color = 'black')\n",
    "\n",
    "\n",
    "sns.histplot(objective_value[0, :], alpha = 0.5, ax = ax[1])\n",
    "ax[1].axvline(166.2, 0, 1, color = 'red')\n",
    "ax[1].axvline(166.2 + 1.33, 0, 1, color = 'red', linestyle = '-.')\n",
    "ax[1].axvline(166.2 - 1.33, 0, 1, color = 'red', linestyle = '-.')\n",
    "ax[1].axvline(objective_value[0, :].mean(), 0, 1, color = 'black')"
   ]
  },
  {
   "cell_type": "code",
   "execution_count": 21,
   "id": "23469ee6-f373-4625-a61b-d2f24f99e0b5",
   "metadata": {},
   "outputs": [
    {
     "name": "stdout",
     "output_type": "stream",
     "text": [
      "{'tau_k': 0, 'e_k': 0, 'rho_e_k': {'white': 0, 'green': 475, 'yellow': 20, 'red': 5}, 'rho_s_k': {'white': 0, 'green': 0, 'yellow': 0, 'red': 0}}\n",
      "{'x_hl_k': {'white': 6, 'green': 3, 'yellow': 10, 'red': 8}, 'x_sl_k': {'white': 12, 'green': 13, 'yellow': 20, 'red': 32}, 'x_su_k': {'white': 31, 'green': 17, 'yellow': 40, 'red': 48}}\n",
      "{'tau_k': 48, 'rho_e_k': {'white': 0, 'green': 148, 'yellow': 37, 'red': 7}, 'rho_s_k': {'white': 0, 'green': 0, 'yellow': 0, 'red': 0}, 'e_k': 1}\n"
     ]
    }
   ],
   "source": [
    "# create the environment and policy objects\n",
    "env = MassEvacuation(initial_state = rempel_2024_initial_state, \\\n",
    "                     seed = rempel_2024_seed,\n",
    "                     default_rng = False)\n",
    "\n",
    "print(env.state)\n",
    "\n",
    "# sample an action\n",
    "action_sample = env.action_space.sample()\n",
    "\n",
    "# convert the sampled action into an action that can be used by the environment\n",
    "action = {'x_hl_k' : {'white' : action_sample['x_hl_k'][0,0], \n",
    "                      'green' : action_sample['x_hl_k'][0,1], \n",
    "                      'yellow' : action_sample['x_hl_k'][0,2], \n",
    "                      'red' : action_sample['x_hl_k'][0,3]}, \\\n",
    "          'x_sl_k' : {'white' : action_sample['x_sl_k'][0,0], \n",
    "                      'green' : action_sample['x_sl_k'][0,1], \n",
    "                      'yellow' : action_sample['x_sl_k'][0,2],\n",
    "                      'red' : action_sample['x_sl_k'][0,3]},\n",
    "          'x_su_k' : {'white' : action_sample['x_su_k'][0,0], \n",
    "                      'green' : action_sample['x_su_k'][0,1], \n",
    "                      'yellow' : action_sample['x_su_k'][0,2], \n",
    "                      'red' : action_sample['x_su_k'][0,3]}\n",
    "                  }\n",
    "\n",
    "print(action)\n",
    "\n",
    "# submit the action to the environment and check what is returned\n",
    "observation, reward, terminated, truncated, info = env.step(action)\n",
    "print(observation)"
   ]
  },
  {
   "cell_type": "code",
   "execution_count": 7,
   "id": "beafca09-a613-4f42-af71-9619c94d3d7b",
   "metadata": {},
   "outputs": [
    {
     "data": {
      "text/plain": [
       "array([[1, 2, 7, 3]], dtype=int32)"
      ]
     },
     "execution_count": 7,
     "metadata": {},
     "output_type": "execute_result"
    }
   ],
   "source": []
  },
  {
   "cell_type": "code",
   "execution_count": 41,
   "id": "31e72b6a-a952-4ddf-ba6e-ee2699527a50",
   "metadata": {},
   "outputs": [
    {
     "data": {
      "text/plain": [
       "123.53333333333333"
      ]
     },
     "execution_count": 41,
     "metadata": {},
     "output_type": "execute_result"
    }
   ],
   "source": [
    "objective_value[10,:].mean()"
   ]
  },
  {
   "cell_type": "code",
   "execution_count": null,
   "id": "f3d1fea1-3ed1-4773-a603-7f7f762211f7",
   "metadata": {},
   "outputs": [],
   "source": []
  }
 ],
 "metadata": {
  "kernelspec": {
   "display_name": "Python 3 (ipykernel)",
   "language": "python",
   "name": "python3"
  },
  "language_info": {
   "codemirror_mode": {
    "name": "ipython",
    "version": 3
   },
   "file_extension": ".py",
   "mimetype": "text/x-python",
   "name": "python",
   "nbconvert_exporter": "python",
   "pygments_lexer": "ipython3",
   "version": "3.12.1"
  }
 },
 "nbformat": 4,
 "nbformat_minor": 5
}
