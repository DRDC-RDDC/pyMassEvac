{
 "cells": [
  {
   "cell_type": "markdown",
   "id": "7cad2c2c-4bc6-4f23-9401-07048a8e40df",
   "metadata": {},
   "source": [
    "# Mass evacuation gymnasium tutorial\n",
    "\n",
    "This tutorial demonstrates how to use the gym_mass_evacuation python package to study a multi-domain response to a mass evacuation. "
   ]
  },
  {
   "cell_type": "code",
   "execution_count": 74,
   "id": "656f5d1f-e9f7-4e26-b11f-f61ef580795a",
   "metadata": {},
   "outputs": [],
   "source": [
    "# import packages\n",
    "import gymnasium as gym\n",
    "import numpy as np\n",
    "import pandas as pd\n",
    "import copy\n",
    "import math\n",
    "import random\n",
    "from tqdm import tqdm\n",
    "from matplotlib import pyplot as plt\n",
    "import seaborn as sns\n",
    "from scipy.stats import bootstrap"
   ]
  },
  {
   "cell_type": "markdown",
   "id": "93ad6968-8398-4bbf-9e0a-2c254de5dc92",
   "metadata": {},
   "source": [
    "Next, import two modules from the gym_mass_evacuation package. The first module, mass_evacuation, contains the mass evacuation gymnasium environment. The second module, mass_evacuation_policy, contians a set of benchmark policy function approximations as described in Rempel (2024)."
   ]
  },
  {
   "cell_type": "code",
   "execution_count": 75,
   "id": "a3f78c9f-fbcd-4133-9b0f-dea3c445f0be",
   "metadata": {},
   "outputs": [],
   "source": [
    "from gym_mass_evacuation.mass_evacuation import MassEvacuation\n",
    "from gym_mass_evacuation.mass_evacuation_policy import MassEvacuationPolicy"
   ]
  },
  {
   "cell_type": "markdown",
   "id": "6cdb7991-e073-426f-932e-82765a0deddb",
   "metadata": {},
   "source": [
    "## Setting up the initial state, environment, and decision policies\n",
    "\n",
    "First, we define the seed used in the random number generator. This seed, which is the same as used in Rempel (2024) (although not explicitly reported), is used to initiate a random number generator. This single generator is used to: (i) generate the initial transition times of individuals between medical conditions; (ii) generate new transition times when an individual is loaded on or off the ship; and (iii) generate random numbers to determine if an individual has transitioned between medical conditions each time the transition function is executed. Note: A separate random number generator is used for the benchmark policies, but a seed is not provided in this instance.\n",
    "\n",
    "Second, we define the initial state $S_0$. This is the same initial state used in Rempel (2024), as listed in Table 5. However, note the addition of the initial helicopter arrival time and initial ship arrival time. In Rempel (2024) these were considered as separate parameters that were input to the simulation; they are now integrated into the initial state in order to provide a clearner interface."
   ]
  },
  {
   "cell_type": "code",
   "execution_count": 76,
   "id": "2b844a83-623f-4011-9a6c-f75c7a732979",
   "metadata": {},
   "outputs": [],
   "source": [
    "# set the environment's seed and initial state that was used in Rempel (2024)\n",
    "# Set the seed that was used in Rempel (2024)\n",
    "rempel_2024_seed = 20180529\n",
    "\n",
    "# Set the initial state\n",
    "rempel_2024_initial_state = {\n",
    "            'm_e' : {'white' : 120, 'green' : 48, 'yellow' : 8, 'red' : 1.5},\n",
    "            'm_s' : {'green' : 48, 'yellow' : 72, 'red' : 120},\n",
    "            'c_h' : 10,\n",
    "            'c_s' : 50,\n",
    "            'delta_h' : {'white' : 1, 'green' : 1, 'yellow' : 3, 'red' : 3},\n",
    "            'delta_s' : {'white' : 1, 'green' : 1, 'yellow' : 3, 'red' : 3},\n",
    "            'eta_h' : 3,\n",
    "            'eta_sl' : 1,\n",
    "            'eta_su' : 24,\n",
    "            'tau_k' : 0,\n",
    "            'e_k' : 0,\n",
    "            'rho_e_k' : {'white' : 0, 'green' : 475, 'yellow' : 20, 'red' : 5},\n",
    "            'rho_s_k' : {'white' : 0, 'green' : 0, 'yellow' : 0, 'red' : 0},\n",
    "            'initial_helo_arrival' : [48],\n",
    "            'initial_ship_arrival' : [0]\n",
    "        }"
   ]
  },
  {
   "cell_type": "markdown",
   "id": "d412ef33-7985-4696-80aa-9f018fa250bd",
   "metadata": {},
   "source": [
    "Next, we create the gymnasium environment and a benchmark policy object. The gymnasium environment requries three parameters: the initial state, the seed for the random number generator, and whether or not the np.random.default_rng generator is to be used (default_rng = True) or not (default_rng = False). In the case of False, the random number generator is created using np.random.RandomState (which was used in Rempel (2024)). Given that np.random.default_rng is a replacement for RandomState, it is advised to set default_rng = True. In the case below, we set it to False to generate results that are in agreement with Rempel (2024)."
   ]
  },
  {
   "cell_type": "code",
   "execution_count": 77,
   "id": "84813a8b-fd0b-422e-8f44-9dd30adcc51f",
   "metadata": {},
   "outputs": [],
   "source": [
    "# create the environment and policy objects\n",
    "env = MassEvacuation(initial_state = rempel_2024_initial_state, \\\n",
    "                     seed = rempel_2024_seed,\n",
    "                     default_rng = False)\n",
    "\n",
    "policy = MassEvacuationPolicy()"
   ]
  },
  {
   "cell_type": "code",
   "execution_count": 78,
   "id": "bd1c1803-a048-495b-af0e-fd5b4dec3288",
   "metadata": {},
   "outputs": [],
   "source": [
    "def simulate_scenario(env, policy, single_scenario = True):\n",
    "\n",
    "    # define the default action\n",
    "    action = {'x_hl_k' : {'white' : 0, 'green' : 0, 'yellow' : 0, 'red' : 0},\n",
    "              'x_sl_k' : {'white' : 0, 'green' : 0, 'yellow' : 0, 'red' : 0},\n",
    "              'x_su_k' : {'white' : 0, 'green' : 0, 'yellow' : 0, 'red' : 0}\n",
    "             }\n",
    "    \n",
    "    num_trials = 30\n",
    "    ship_arrival_time = np.arange(0, 180, 12)\n",
    "    \n",
    "    # Create a pandas data frame to store the results\n",
    "    results = pd.DataFrame(columns = ['Ship arrival time', 'Trial', 'Objective'])\n",
    "    \n",
    "    for idx, ship_arrival in enumerate(ship_arrival_time):\n",
    "    \n",
    "        env.initial_state['initial_ship_arrival'] = [ship_arrival]\n",
    "        \n",
    "        for t in tqdm(range(num_trials)):\n",
    "    \n",
    "            objective = 0\n",
    "            done = False\n",
    "        \n",
    "            while not done:\n",
    "        \n",
    "                # The action space in this is defined by three types of actions that can be taken that depend on the event that is occuring.\n",
    "                # The actions are:\n",
    "                # - load the helicopter with {white, green, yellow, red}\n",
    "                # - load the ship with {whtie, green, yellow, red}\n",
    "                # - unload the ship with {white, green, yellow, red}\n",
    "        \n",
    "                action = {'x_hl_k' : {'white' : 0, 'green' : 0, 'yellow' : 0, 'red' : 0},\n",
    "                          'x_sl_k' : {'white' : 0, 'green' : 0, 'yellow' : 0, 'red' : 0},\n",
    "                          'x_su_k' : {'white' : 0, 'green' : 0, 'yellow' : 0, 'red' : 0}\n",
    "                          }\n",
    "        \n",
    "                if (env.state['e_k']) == 1:\n",
    "        \n",
    "                    # load the helicopter\n",
    "                    params = {}\n",
    "                    params['total_capacity'] = env.initial_state['c_h']\n",
    "                    params['individual_capacity'] = env.initial_state['delta_h']\n",
    "                    action['x_hl_k'] = policy.green_first_loading_policy(state = env.state, \\\n",
    "                                                                         params = params)\n",
    "                elif (env.state['e_k'] == 2):\n",
    "        \n",
    "                    # load the ship\n",
    "                    params = {}\n",
    "                    params['total_capacity'] = env.initial_state['c_s']\n",
    "                    params['individual_capacity'] = env.initial_state['delta_s']\n",
    "                    action['x_sl_k'] = policy.green_first_loading_policy(state = env.state, \\\n",
    "                                                                         params = params)\n",
    "                elif (env.state['e_k'] == 3):\n",
    "        \n",
    "                    # unload the ship\n",
    "                    action['x_su_k'] = policy.white_unloading_policy(state = env.state) \n",
    "        \n",
    "                observation, reward, terminated, truncated, info = env.step(action)\n",
    "                env.state = observation\n",
    "        \n",
    "                objective += reward\n",
    "                done = terminated or truncated\n",
    "    \n",
    "            trial_result = pd.DataFrame([{'Ship arrival time': ship_arrival, 'Trial': t, 'Objective': objective}])\n",
    "            results = pd.concat([results, trial_result], ignore_index = True)\n",
    "            \n",
    "            options = {}\n",
    "            options['single_scenario'] = single_scenario\n",
    "            env.reset(options = options)\n",
    "\n",
    "    return results"
   ]
  },
  {
   "cell_type": "code",
   "execution_count": 79,
   "id": "fc38d125-663a-45fd-b3c7-4b9c44891000",
   "metadata": {},
   "outputs": [
    {
     "name": "stderr",
     "output_type": "stream",
     "text": [
      "100%|█████████████████████████████████████████████| 30/30 [00:22<00:00,  1.33it/s]\n",
      "100%|█████████████████████████████████████████████| 30/30 [00:21<00:00,  1.42it/s]\n",
      "100%|█████████████████████████████████████████████| 30/30 [00:21<00:00,  1.41it/s]\n",
      "100%|█████████████████████████████████████████████| 30/30 [00:21<00:00,  1.42it/s]\n",
      "100%|█████████████████████████████████████████████| 30/30 [00:24<00:00,  1.23it/s]\n",
      "100%|█████████████████████████████████████████████| 30/30 [00:20<00:00,  1.46it/s]\n",
      "100%|█████████████████████████████████████████████| 30/30 [00:30<00:00,  1.02s/it]\n",
      "100%|█████████████████████████████████████████████| 30/30 [00:20<00:00,  1.44it/s]\n",
      "100%|█████████████████████████████████████████████| 30/30 [00:04<00:00,  6.91it/s]\n",
      "100%|█████████████████████████████████████████████| 30/30 [00:03<00:00,  8.78it/s]\n",
      "100%|█████████████████████████████████████████████| 30/30 [00:03<00:00,  8.87it/s]\n",
      "100%|█████████████████████████████████████████████| 30/30 [00:03<00:00,  8.84it/s]\n",
      "100%|█████████████████████████████████████████████| 30/30 [00:03<00:00,  8.87it/s]\n",
      "100%|█████████████████████████████████████████████| 30/30 [00:03<00:00,  8.83it/s]\n",
      "100%|█████████████████████████████████████████████| 30/30 [00:03<00:00,  8.81it/s]\n",
      "100%|█████████████████████████████████████████████| 30/30 [00:23<00:00,  1.28it/s]\n",
      "100%|█████████████████████████████████████████████| 30/30 [00:22<00:00,  1.30it/s]\n",
      "100%|█████████████████████████████████████████████| 30/30 [00:23<00:00,  1.30it/s]\n",
      "100%|█████████████████████████████████████████████| 30/30 [00:23<00:00,  1.29it/s]\n",
      "100%|█████████████████████████████████████████████| 30/30 [00:25<00:00,  1.19it/s]\n",
      "100%|█████████████████████████████████████████████| 30/30 [00:22<00:00,  1.36it/s]\n",
      "100%|█████████████████████████████████████████████| 30/30 [00:29<00:00,  1.03it/s]\n",
      "100%|█████████████████████████████████████████████| 30/30 [00:24<00:00,  1.22it/s]\n",
      "100%|█████████████████████████████████████████████| 30/30 [00:06<00:00,  4.77it/s]\n",
      "100%|█████████████████████████████████████████████| 30/30 [00:05<00:00,  5.34it/s]\n",
      "100%|█████████████████████████████████████████████| 30/30 [00:05<00:00,  5.42it/s]\n",
      "100%|█████████████████████████████████████████████| 30/30 [00:05<00:00,  5.35it/s]\n",
      "100%|█████████████████████████████████████████████| 30/30 [00:05<00:00,  5.33it/s]\n",
      "100%|█████████████████████████████████████████████| 30/30 [00:05<00:00,  5.41it/s]\n",
      "100%|█████████████████████████████████████████████| 30/30 [00:05<00:00,  5.39it/s]\n",
      "/var/folders/ct/wc1j0dpn1wngl49q5ctqv3g80000gn/T/ipykernel_41546/3471681816.py:21: FutureWarning: The behavior of DataFrame concatenation with empty or all-NA entries is deprecated. In a future version, this will no longer exclude empty or all-NA columns when determining the result dtypes. To retain the old behavior, exclude the relevant entries before the concat operation.\n",
      "  summary = pd.concat([summary, trial_result], ignore_index = True)\n"
     ]
    },
    {
     "name": "stdout",
     "output_type": "stream",
     "text": [
      "   Ship arrival time  Objective mean      CI low     CI high\n",
      "0                  0      167.466667  165.866667  169.033333\n",
      "1                 12      162.433333  161.133333  163.866667\n",
      "2                 24      151.933333  150.466667  153.266667\n",
      "3                 36      144.066667  143.166667  145.166667\n",
      "4                 48      132.900000  132.033333  133.766667\n",
      "5                 60      126.233333  125.733333  126.833333\n",
      "6                 72      118.933333  118.166667  119.833333\n",
      "7                 84      113.233333  112.500000  114.000000\n",
      "8                 96      113.200000  112.500000  114.033333\n",
      "9                108      113.933333  113.233333  114.666667\n",
      "10               120      113.800000  113.000000  114.566667\n",
      "11               132      113.366667  112.666667  114.166667\n",
      "12               144      113.133333  112.300000  113.866667\n",
      "13               156      114.166667  113.500000  114.700000\n",
      "14               168      113.866667  113.133333  114.600000\n"
     ]
    }
   ],
   "source": [
    "# Simulate the mass evacuation scenario\n",
    "results_single = simulate_scenario(env, policy, single_scenario = True)\n",
    "results_multiple = simulate_scenario(env, policy, single_scenario = False)\n",
    "\n",
    "# Create a data frame to summarize the results\n",
    "summary = pd.DataFrame(columns = ['Ship arrival time', 'Objective mean', 'CI low', 'CI high'])\n",
    "rng = np.random.default_rng()\n",
    "\n",
    "for idx, ship_arrival in enumerate(ship_arrival_time):\n",
    "\n",
    "    data = (results_single[results_single['Ship arrival time'] == ship_arrival]['Objective'], )\n",
    "\n",
    "    ci_low, ci_high = bootstrap(data, np.mean, confidence_level = 0.95, random_state = rng).confidence_interval\n",
    "    trial_result = pd.DataFrame([{'Ship arrival time' : ship_arrival, \\\n",
    "                                 'Objective mean' : results_single[results_single['Ship arrival time'] == \\\n",
    "                                  ship_arrival]['Objective'].mean(), \\\n",
    "                                 'CI low' : ci_low, \\\n",
    "                                 'CI high' : ci_high}]\n",
    "                               )\n",
    "\n",
    "    summary = pd.concat([summary, trial_result], ignore_index = True)\n",
    "                                 \n",
    "print(summary)\n"
   ]
  },
  {
   "cell_type": "code",
   "execution_count": 89,
   "id": "2ed95380-8d0a-457a-85b7-9f00fd9ad1ac",
   "metadata": {},
   "outputs": [
    {
     "data": {
      "text/plain": [
       "(0.0, 250.0)"
      ]
     },
     "execution_count": 89,
     "metadata": {},
     "output_type": "execute_result"
    },
    {
     "data": {
      "image/png": "[encoded data removed]",
      "text/plain": [
       "<Figure size 640x480 with 1 Axes>"
      ]
     },
     "metadata": {},
     "output_type": "display_data"
    }
   ],
   "source": [
    "# Create a figure simiilar to Figure 3 in Rempel (2024)\n",
    "ax = sns.boxplot(data = results_single, x = 'Ship arrival time', y = 'Objective', color = \"red\")\n",
    "ax.set(ylabel = 'Number of individual saved', xlabel = 'Ship arrival time after tau_k = 0')\n",
    "ax.set_ylim(bottom = 0, top = 250)\n",
    "\n",
    "ax = sns.boxplot(data = results_multiple, x = 'Ship arrival time', y = 'Objective', color = \"blue\")\n",
    "ax.set(ylabel = 'Number of individual saved', xlabel = 'Ship arrival time after tau_k = 0')\n",
    "ax.set_ylim(bottom = 0, top = 250)"
   ]
  },
  {
   "cell_type": "code",
   "execution_count": 21,
   "id": "23469ee6-f373-4625-a61b-d2f24f99e0b5",
   "metadata": {},
   "outputs": [
    {
     "name": "stdout",
     "output_type": "stream",
     "text": [
      "{'tau_k': 0, 'e_k': 0, 'rho_e_k': {'white': 0, 'green': 475, 'yellow': 20, 'red': 5}, 'rho_s_k': {'white': 0, 'green': 0, 'yellow': 0, 'red': 0}}\n",
      "{'x_hl_k': {'white': 6, 'green': 3, 'yellow': 10, 'red': 8}, 'x_sl_k': {'white': 12, 'green': 13, 'yellow': 20, 'red': 32}, 'x_su_k': {'white': 31, 'green': 17, 'yellow': 40, 'red': 48}}\n",
      "{'tau_k': 48, 'rho_e_k': {'white': 0, 'green': 148, 'yellow': 37, 'red': 7}, 'rho_s_k': {'white': 0, 'green': 0, 'yellow': 0, 'red': 0}, 'e_k': 1}\n"
     ]
    }
   ],
   "source": [
    "# create the environment and policy objects\n",
    "env = MassEvacuation(initial_state = rempel_2024_initial_state, \\\n",
    "                     seed = rempel_2024_seed,\n",
    "                     default_rng = False)\n",
    "\n",
    "print(env.state)\n",
    "\n",
    "# sample an action\n",
    "action_sample = env.action_space.sample()\n",
    "\n",
    "# convert the sampled action into an action that can be used by the environment\n",
    "action = {'x_hl_k' : {'white' : action_sample['x_hl_k'][0,0], \n",
    "                      'green' : action_sample['x_hl_k'][0,1], \n",
    "                      'yellow' : action_sample['x_hl_k'][0,2], \n",
    "                      'red' : action_sample['x_hl_k'][0,3]}, \\\n",
    "          'x_sl_k' : {'white' : action_sample['x_sl_k'][0,0], \n",
    "                      'green' : action_sample['x_sl_k'][0,1], \n",
    "                      'yellow' : action_sample['x_sl_k'][0,2],\n",
    "                      'red' : action_sample['x_sl_k'][0,3]},\n",
    "          'x_su_k' : {'white' : action_sample['x_su_k'][0,0], \n",
    "                      'green' : action_sample['x_su_k'][0,1], \n",
    "                      'yellow' : action_sample['x_su_k'][0,2], \n",
    "                      'red' : action_sample['x_su_k'][0,3]}\n",
    "                  }\n",
    "\n",
    "print(action)\n",
    "\n",
    "# submit the action to the environment and check what is returned\n",
    "observation, reward, terminated, truncated, info = env.step(action)\n",
    "print(observation)"
   ]
  },
  {
   "cell_type": "code",
   "execution_count": 7,
   "id": "beafca09-a613-4f42-af71-9619c94d3d7b",
   "metadata": {},
   "outputs": [
    {
     "data": {
      "text/plain": [
       "array([[1, 2, 7, 3]], dtype=int32)"
      ]
     },
     "execution_count": 7,
     "metadata": {},
     "output_type": "execute_result"
    }
   ],
   "source": []
  },
  {
   "cell_type": "code",
   "execution_count": 41,
   "id": "31e72b6a-a952-4ddf-ba6e-ee2699527a50",
   "metadata": {},
   "outputs": [
    {
     "data": {
      "text/plain": [
       "123.53333333333333"
      ]
     },
     "execution_count": 41,
     "metadata": {},
     "output_type": "execute_result"
    }
   ],
   "source": [
    "objective_value[10,:].mean()"
   ]
  },
  {
   "cell_type": "code",
   "execution_count": null,
   "id": "f3d1fea1-3ed1-4773-a603-7f7f762211f7",
   "metadata": {},
   "outputs": [],
   "source": []
  }
 ],
 "metadata": {
  "kernelspec": {
   "display_name": "Python 3 (ipykernel)",
   "language": "python",
   "name": "python3"
  },
  "language_info": {
   "codemirror_mode": {
    "name": "ipython",
    "version": 3
   },
   "file_extension": ".py",
   "mimetype": "text/x-python",
   "name": "python",
   "nbconvert_exporter": "python",
   "pygments_lexer": "ipython3",
   "version": "3.12.1"
  }
 },
 "nbformat": 4,
 "nbformat_minor": 5
}
